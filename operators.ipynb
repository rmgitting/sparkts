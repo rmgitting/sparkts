{
 "cells": [
  {
   "cell_type": "code",
   "execution_count": 1,
   "metadata": {},
   "outputs": [],
   "source": [
    "%run io_functions.ipynb"
   ]
  },
  {
   "cell_type": "code",
   "execution_count": 3,
   "metadata": {},
   "outputs": [],
   "source": [
    "def temporal_selection(query, df):\n",
    "    attribute, value, q = query_parser(query)\n",
    "    if q == 'streq':\n",
    "        df1 = df.select('timestamp', attribute).withColumn(attribute, when(col(attribute)==value, value).otherwise('!'))\n",
    "    elif q == 'greq':\n",
    "        value = float(value)\n",
    "        df1 = change_column_type(df, attribute)\n",
    "        df1 = df1.select('timestamp', attribute).withColumn(attribute, when(col(attribute)>=value, col(attribute)).otherwise('!'))\n",
    "    elif q == 'lseq':\n",
    "        value = float(value)\n",
    "        df1 = change_column_type(df, attribute)\n",
    "        df1 = df1.select('timestamp', attribute).withColumn(attribute, when(col(attribute)<=value, col(attribute)).otherwise('!'))\n",
    "    elif q == 'nmeq':\n",
    "        value = float(value)\n",
    "        df1 = change_column_type(df, attribute)\n",
    "        df1 = df1.select('timestamp', attribute).withColumn(attribute, when(col(attribute)==value, value).otherwise('!'))\n",
    "    elif q == 'gr':\n",
    "        value = float(value)\n",
    "        df1 = change_column_type(df, attribute)\n",
    "        df1 = df1.select('timestamp', attribute).withColumn(attribute, when(col(attribute)>value, col(attribute)).otherwise('!'))\n",
    "    elif q == 'ls':\n",
    "        value = float(value)\n",
    "        df1 = change_column_type(df, attribute)\n",
    "        df1 = df1.select('timestamp', attribute).withColumn(attribute, when(col(attribute)<value, col(attribute)).otherwise('!'))\n",
    "    return df1"
   ]
  },
  {
   "cell_type": "code",
   "execution_count": 23,
   "metadata": {},
   "outputs": [],
   "source": [
    "def window_selection(query, pythonDateFormat='%d/%m/%Y', path='./', readFromDisk=True, df=None):\n",
    "    start, end, _ = query_parser(query)\n",
    "    start_date = datetime.datetime.strptime(start, pythonDateFormat)\n",
    "    end_date = datetime.datetime.strptime(end, pythonDateFormat)\n",
    "    start_epoch = int(start_date.timestamp())\n",
    "    end_epoch = int(end_date.timestamp())\n",
    "    \n",
    "    if readFromDisk is True:\n",
    "        files = [f for f in os.listdir(path) if test_time_interval(f, start_epoch, end_epoch)]\n",
    "        return unpack(path, files)\n",
    "    else:\n",
    "        return df.filter(col('timestamp').between(start_epoch, end_epoch))"
   ]
  },
  {
   "cell_type": "code",
   "execution_count": 37,
   "metadata": {},
   "outputs": [],
   "source": [
    "def temporal_projection(query, df):\n",
    "    attribute, op, number = query_parser(query)\n",
    "    df = change_column_type(df, attribute)\n",
    "    df = df.withColumn(attribute, ops.get(op)(col(attribute), number))\n",
    "    return df"
   ]
  },
  {
   "cell_type": "code",
   "execution_count": 12,
   "metadata": {},
   "outputs": [],
   "source": [
    "def shift(query, df):\n",
    "    n, duration, _ = query_parser(query)\n",
    "    step = calculate_step_in_seconds(duration) * n\n",
    "    df_left = df.select([col(c).alias(c+\"_original\") for c in df.columns])\n",
    "    df_right = df.select([col(c).alias(c+\"_shifted\") for c in df.columns])\n",
    "    df_left = df_left.withColumn('shifted_timestamp', df_left.timestamp_original + step)\n",
    "    df_joined = df_left.join(df_right, df_left.shifted_timestamp == df_right.timestamp_shifted, \"inner\").drop(\n",
    "        'shifted_timestamp')\n",
    "    return df_joined"
   ]
  },
  {
   "cell_type": "code",
   "execution_count": 40,
   "metadata": {},
   "outputs": [],
   "source": [
    "def temporal_aggregation(query, df):\n",
    "    duration , attribute, agg = query_parser(query)\n",
    "    step = calculate_step_from_string(duration)\n",
    "    first_timestamp = df.select('timestamp').first()[0]\n",
    "    df1 = df.withColumn('first_timestamp', lit(first_timestamp))\n",
    "    df1 = df1.withColumn('group', ((df1.timestamp - df1.first_timestamp)/lit(step)).cast(\"integer\")).drop(\n",
    "    'first_timestamp')\n",
    "    group = df1\n",
    "    if agg == 'count':\n",
    "        group = df1.groupBy('group', attribute).count().sort('group')\n",
    "    elif agg == 'avg':\n",
    "        df1 = change_column_type(df1, attribute)\n",
    "        group = df1.groupBy('group').agg(mean(attribute)).sort('group')\n",
    "    return group"
   ]
  },
  {
   "cell_type": "code",
   "execution_count": 39,
   "metadata": {},
   "outputs": [],
   "source": [
    "def window_aggregation(query, df):\n",
    "    step, attribute, agg = query_parser(query)\n",
    "    window = Window.orderBy('timestamp').rangeBetween(0, step)\n",
    "    all_original_columns = df.columns\n",
    "    column_name = agg + '(' + attribute + ')'\n",
    "    df1 = df\n",
    "    if agg == 'count':\n",
    "        df1 = df.withColumn(column_name, (collect_list(attribute).over(window)))\n",
    "        df1 = df1.select('*', explode(column_name).alias('exploded')).filter(col(attribute) == col('exploded'))\\\n",
    "        .groupBy(*all_original_columns, column_name).count()\n",
    "        df1 = df1.drop(column_name, 'exploded')\n",
    "    elif agg == 'avg':\n",
    "        df1 = change_column_type(df1, attribute)\n",
    "        df1 = df.withColumn(column_name, avg(attribute).over(window))\n",
    "    return df1"
   ]
  },
  {
   "cell_type": "code",
   "execution_count": null,
   "metadata": {},
   "outputs": [],
   "source": []
  }
 ],
 "metadata": {
  "kernelspec": {
   "display_name": "Python 3",
   "language": "python",
   "name": "python3"
  },
  "language_info": {
   "codemirror_mode": {
    "name": "ipython",
    "version": 3
   },
   "file_extension": ".py",
   "mimetype": "text/x-python",
   "name": "python",
   "nbconvert_exporter": "python",
   "pygments_lexer": "ipython3",
   "version": "3.6.8"
  }
 },
 "nbformat": 4,
 "nbformat_minor": 2
}
