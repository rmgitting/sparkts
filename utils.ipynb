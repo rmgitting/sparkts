{
 "cells": [
  {
   "cell_type": "code",
   "execution_count": 11,
   "metadata": {},
   "outputs": [],
   "source": [
    "from pyspark.sql.functions import *\n",
    "from pyspark.sql import Window\n",
    "from pyspark.sql.types import *\n",
    "import os\n",
    "from functools import reduce\n",
    "from operator import add\n",
    "from pyspark.sql import DataFrame\n",
    "import datetime\n",
    "import operator\n",
    "ops = {'+':operator.add, '-':operator.sub, '*':operator.mul, '/':operator.truediv}"
   ]
  },
  {
   "cell_type": "code",
   "execution_count": 2,
   "metadata": {},
   "outputs": [],
   "source": [
    "def calculate_step_in_seconds(step):\n",
    "    if step.startswith('year'):\n",
    "        inSec = 31536000\n",
    "    elif step.startswith('month'):\n",
    "        inSec = 2630000\n",
    "    elif step.startswith('week'):\n",
    "        inSec = 604800\n",
    "    elif step.startswith('day'):\n",
    "        inSec = 86400\n",
    "    elif step.startswith('hour'):\n",
    "        inSec = 3600\n",
    "    elif step.startswith('minute'):\n",
    "        inSec = 60\n",
    "    elif step.startswith('second'):\n",
    "        inSec = 1\n",
    "    return inSec\n",
    "\n",
    "def calculate_step_from_string(string):\n",
    "    s = string.split(' ')\n",
    "    n = int(s[0])\n",
    "    step = calculate_step_in_seconds(s[1])\n",
    "    return n * step"
   ]
  },
  {
   "cell_type": "code",
   "execution_count": 3,
   "metadata": {},
   "outputs": [],
   "source": [
    "def concat(*args):\n",
    "    return [arg for arg in args]"
   ]
  },
  {
   "cell_type": "code",
   "execution_count": 4,
   "metadata": {},
   "outputs": [],
   "source": [
    "def change_column_names(columns):\n",
    "    return [c.replace('.', '_') for c in columns]"
   ]
  },
  {
   "cell_type": "code",
   "execution_count": 10,
   "metadata": {},
   "outputs": [],
   "source": [
    "def query_parser(query):\n",
    "    if query.startswith('TSel'):\n",
    "        return temporal_selection_parser(query)\n",
    "    if query.startswith('WSel'):\n",
    "        return window_selection_parser(query)\n",
    "    if query.startswith('Shift'):\n",
    "        return shift_parser(query)\n",
    "    if query.startswith('TAgg'):\n",
    "        return temporal_aggregation_parser(query)\n",
    "    if query.startswith('WAgg'):\n",
    "        return window_aggregation_parser(query)\n",
    "    if query.startswith('TProj'):\n",
    "        return temporal_projection_parser(query)\n",
    "    \n",
    "def temporal_projection_parser(query):\n",
    "    predicate = query[6:-1]\n",
    "    for op in ops.keys():\n",
    "        s = predicate.split(op)\n",
    "        if len(s) == 2:\n",
    "            if '.' in s[1]:\n",
    "                n = float(s[1])\n",
    "            else:\n",
    "                n = int(s[1])\n",
    "            return s[0], op, n\n",
    "    \n",
    "def temporal_selection_parser(query):\n",
    "    predicate = query[5:-1]\n",
    "    if '==' in predicate:\n",
    "        s = predicate.split('==')\n",
    "        return s[0], s[1], 'streq'\n",
    "    \n",
    "def window_selection_parser(query):\n",
    "    predicate = query[5:-1]\n",
    "    s = predicate.split(',')\n",
    "    return s[0], s[1], None\n",
    "\n",
    "def shift_parser(query):\n",
    "    predicate = query[6:-1]\n",
    "    s = predicate.split(' ')\n",
    "    return int(s[0]), s[1], None\n",
    "\n",
    "def temporal_aggregation_parser(query):\n",
    "    predicate = query[5:-1]\n",
    "    s = predicate.split(',')\n",
    "    s2 = s[1].split('(')\n",
    "    return s[0], s2[1][:-1], s2[0]\n",
    "\n",
    "def window_aggregation_parser(query):\n",
    "    predicate = query[5:-1]\n",
    "    s = predicate.split(',')\n",
    "    s1 = s[0].split(' ')\n",
    "    step = calculate_step_in_seconds(s1[1]) * int(s1[0])\n",
    "    s2 = s[1].split('(')\n",
    "    return step, s2[1][:-1], s2[0]"
   ]
  },
  {
   "cell_type": "code",
   "execution_count": 6,
   "metadata": {},
   "outputs": [],
   "source": [
    "def test_time_interval(file, start, end):\n",
    "    if '=' not in file:\n",
    "        return False\n",
    "    f = file.split(\"=\")\n",
    "    timestamp = int(f[1])\n",
    "    if timestamp >= start and timestamp <= end:\n",
    "        return True\n",
    "    else:\n",
    "        return False"
   ]
  },
  {
   "cell_type": "code",
   "execution_count": 13,
   "metadata": {},
   "outputs": [],
   "source": [
    "def change_column_type(df, attribute, type=DoubleType()):\n",
    "    return df.withColumn(attribute, col(attribute).cast(DoubleType()))"
   ]
  },
  {
   "cell_type": "code",
   "execution_count": null,
   "metadata": {},
   "outputs": [],
   "source": []
  }
 ],
 "metadata": {
  "kernelspec": {
   "display_name": "Python 3",
   "language": "python",
   "name": "python3"
  },
  "language_info": {
   "codemirror_mode": {
    "name": "ipython",
    "version": 3
   },
   "file_extension": ".py",
   "mimetype": "text/x-python",
   "name": "python",
   "nbconvert_exporter": "python",
   "pygments_lexer": "ipython3",
   "version": "3.6.8"
  }
 },
 "nbformat": 4,
 "nbformat_minor": 2
}
