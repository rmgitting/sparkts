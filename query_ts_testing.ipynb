{
 "cells": [
  {
   "cell_type": "code",
   "execution_count": 54,
   "metadata": {},
   "outputs": [],
   "source": [
    "%run functions.ipynb"
   ]
  },
  {
   "cell_type": "code",
   "execution_count": 35,
   "metadata": {},
   "outputs": [],
   "source": [
    "test_path = 'tss/timestamp_interval=1562220000'\n",
    "base_path = 'tss'\n",
    "july4 = 'tss/timestamp_interval=1562220000'\n",
    "june3 = 'tss/timestamp_interval=1559590000'\n",
    "sep3 = 'tss/timestamp_interval=1567480000'\n",
    "aug3 = 'tss/timestamp_interval=1564850000'\n",
    "all_files = ['tss/' + p for p in os.listdir('tss/') if p.startswith('timestamp')]\n",
    "all_files2 = ['part/' + p for p in os.listdir('part/') if p.startswith('timestamp')]"
   ]
  },
  {
   "cell_type": "code",
   "execution_count": 5,
   "metadata": {},
   "outputs": [],
   "source": [
    "def query_dispatcher(query):\n",
    "    if query.startswith('TSel'):\n",
    "        return temporal_selection(query)\n",
    "    if query.startswith('WSel'):\n",
    "        return window_selection(query)\n",
    "    if query.startswith('Shift'):\n",
    "        return shift(query)\n",
    "    if query.startswith('TAgg'):\n",
    "        return temporal_aggregation(query)\n",
    "    if query.startswith('WAgg'):\n",
    "        return window_aggregation(query)"
   ]
  },
  {
   "cell_type": "markdown",
   "metadata": {},
   "source": [
    "## Temporal Selection\n",
    "Return: a time series where we replace the original value with an empty value (!) if the predicate is not satisfied"
   ]
  },
  {
   "cell_type": "code",
   "execution_count": 23,
   "metadata": {},
   "outputs": [],
   "source": [
    "query = 'TSel[activity==Rue]'"
   ]
  },
  {
   "cell_type": "code",
   "execution_count": 25,
   "metadata": {},
   "outputs": [],
   "source": [
    "def temporal_selection(query):\n",
    "    predicate = query[5:-1]\n",
    "    if '==' in predicate:\n",
    "        s = predicate.split('==')\n",
    "        return s[0], s[1], 'streq'"
   ]
  },
  {
   "cell_type": "code",
   "execution_count": 26,
   "metadata": {},
   "outputs": [],
   "source": [
    "attribute, value, q = query_dispatcher(query)"
   ]
  },
  {
   "cell_type": "code",
   "execution_count": 39,
   "metadata": {
    "scrolled": false
   },
   "outputs": [
    {
     "name": "stdout",
     "output_type": "stream",
     "text": [
      "+--------------------+--------------------+--------------------+---------------+------------------+-----------------+------------------+\n",
      "|           tablet_id|            activity|         coordinates|timestamp_first|global_granularity|inner_granularity|timestamp_interval|\n",
      "+--------------------+--------------------+--------------------+---------------+------------------+-----------------+------------------+\n",
      "|[CH184703920, CH1...|[Rue, Métro, Rue,...|[[48.8919, 2.2318...|     1566878400|             month|           minute|        1564850000|\n",
      "+--------------------+--------------------+--------------------+---------------+------------------+-----------------+------------------+\n",
      "\n",
      "root\n",
      " |-- tablet_id: array (nullable = true)\n",
      " |    |-- element: string (containsNull = true)\n",
      " |-- activity: array (nullable = true)\n",
      " |    |-- element: string (containsNull = true)\n",
      " |-- coordinates: array (nullable = true)\n",
      " |    |-- element: array (containsNull = true)\n",
      " |    |    |-- element: string (containsNull = true)\n",
      " |-- timestamp_first: string (nullable = true)\n",
      " |-- global_granularity: string (nullable = true)\n",
      " |-- inner_granularity: string (nullable = true)\n",
      " |-- timestamp_interval: integer (nullable = true)\n",
      "\n",
      "+---------------+--------+-----------+-----------------------------+\n",
      "|timestamp_first|activity|tablet_id  |coordinates                  |\n",
      "+---------------+--------+-----------+-----------------------------+\n",
      "|1566878400     |Rue     |CH184703920|[48.8919, 2.23187333333333]  |\n",
      "|1566878400     |Métro   |CH184703920|[48.8901033333333, 2.23215]  |\n",
      "|1566878400     |Rue     |CH184703920|[48.890005, 2.230545]        |\n",
      "|1566878400     |Bureau  |CH184703920|[48.891835, 2.23177333333333]|\n",
      "|1566878400     |Rue     |CH184703920|[48.8910483333333, 2.23319]  |\n",
      "+---------------+--------+-----------+-----------------------------+\n",
      "only showing top 5 rows\n",
      "\n",
      "+---------------+--------+-----------+--------------------+-------+-----+\n",
      "|timestamp_first|activity|  tablet_id|         coordinates|counter|inSec|\n",
      "+---------------+--------+-----------+--------------------+-------+-----+\n",
      "|     1566878400|     Rue|CH184703920|[48.8919, 2.23187...|      0|   60|\n",
      "|     1566878400|   Métro|CH184703920|[48.8901033333333...|      1|   60|\n",
      "|     1566878400|     Rue|CH184703920|[48.890005, 2.230...|      2|   60|\n",
      "|     1566878400|  Bureau|CH184703920|[48.891835, 2.231...|      3|   60|\n",
      "|     1566878400|     Rue|CH184703920|[48.8910483333333...|      4|   60|\n",
      "+---------------+--------+-----------+--------------------+-------+-----+\n",
      "only showing top 5 rows\n",
      "\n",
      "+--------+-----------+--------------------+----------+\n",
      "|activity|  tablet_id|         coordinates| timestamp|\n",
      "+--------+-----------+--------------------+----------+\n",
      "|     Rue|CH184703920|[48.8919, 2.23187...|1566878400|\n",
      "|   Métro|CH184703920|[48.8901033333333...|1566878460|\n",
      "|     Rue|CH184703920|[48.890005, 2.230...|1566878520|\n",
      "|  Bureau|CH184703920|[48.891835, 2.231...|1566878580|\n",
      "|     Rue|CH184703920|[48.8910483333333...|1566878640|\n",
      "+--------+-----------+--------------------+----------+\n",
      "only showing top 5 rows\n",
      "\n"
     ]
    }
   ],
   "source": [
    "%run unpack_ts.ipynb"
   ]
  },
  {
   "cell_type": "code",
   "execution_count": 40,
   "metadata": {
    "scrolled": false
   },
   "outputs": [
    {
     "name": "stdout",
     "output_type": "stream",
     "text": [
      "+----------+--------+\n",
      "| timestamp|activity|\n",
      "+----------+--------+\n",
      "|1566878400|     Rue|\n",
      "|1566878460|       !|\n",
      "|1566878520|     Rue|\n",
      "|1566878580|       !|\n",
      "|1566878640|     Rue|\n",
      "+----------+--------+\n",
      "only showing top 5 rows\n",
      "\n"
     ]
    }
   ],
   "source": [
    "if q == 'streq':\n",
    "    df1.select('timestamp', attribute).withColumn(attribute, when(col(attribute)==value, value).otherwise('!')).show(5)"
   ]
  },
  {
   "cell_type": "markdown",
   "metadata": {},
   "source": [
    "## Window Selection\n",
    "Load from disk only timeseries within specific time interval"
   ]
  },
  {
   "cell_type": "code",
   "execution_count": 4,
   "metadata": {},
   "outputs": [],
   "source": [
    "query = 'WSel[01/06/2019,30/07/2019]'\n",
    "def window_selection(query):\n",
    "    predicate = query[5:-1]\n",
    "    s = predicate.split(',')\n",
    "    return s[0], s[1], None"
   ]
  },
  {
   "cell_type": "code",
   "execution_count": 5,
   "metadata": {},
   "outputs": [],
   "source": [
    "start, end, _ = query_dispatcher(query)"
   ]
  },
  {
   "cell_type": "code",
   "execution_count": 6,
   "metadata": {},
   "outputs": [],
   "source": [
    "import datetime\n",
    "\n",
    "date_format = '%d/%m/%Y'\n",
    "start_date = datetime.datetime.strptime(start, date_format)\n",
    "end_date = datetime.datetime.strptime(end, date_format)\n",
    "start_epoch = int(start_date.timestamp())\n",
    "end_epoch = int(end_date.timestamp())"
   ]
  },
  {
   "cell_type": "code",
   "execution_count": 7,
   "metadata": {},
   "outputs": [],
   "source": [
    "import os\n",
    "def test_time_interval(file, start, end):\n",
    "    if '=' not in file:\n",
    "        return False\n",
    "    f = file.split(\"=\")\n",
    "    timestamp = int(f[1])\n",
    "    if timestamp >= start and timestamp <= end:\n",
    "        return True\n",
    "    else:\n",
    "        return False\n",
    "\n",
    "files = [f for f in os.listdir('tss/') if test_time_interval(f, start_epoch, end_epoch)]"
   ]
  },
  {
   "cell_type": "code",
   "execution_count": 8,
   "metadata": {},
   "outputs": [],
   "source": [
    "df = unpack('tss', files)"
   ]
  },
  {
   "cell_type": "code",
   "execution_count": 89,
   "metadata": {},
   "outputs": [
    {
     "name": "stdout",
     "output_type": "stream",
     "text": [
      "+--------+-----------+--------------------+----------+\n",
      "|activity|  tablet_id|         coordinates| timestamp|\n",
      "+--------+-----------+--------------------+----------+\n",
      "|Domicile|CH184703916|[48.8365266666667...|1560307680|\n",
      "|     Rue|CH184703916|[48.8359416666667...|1560307740|\n",
      "|     Bus|CH184703916| [48.83648, 2.52973]|1560307800|\n",
      "|     Rue|CH184703916|[48.8363583333333...|1560307860|\n",
      "|  Bureau|CH184703916|[48.8362033333333...|1560307920|\n",
      "|     Rue|CH184703916|[48.8293983333333...|1560307980|\n",
      "|   Métro|CH184703916|[48.8316016666667...|1560308040|\n",
      "|Domicile|CH184703916|[48.826745, 2.355...|1560308100|\n",
      "|     Rue|CH184703916|[48.8270466666667...|1560308160|\n",
      "| Magasin|CH184703916|[48.8269083333333...|1560308220|\n",
      "|     Rue|CH184703916|[48.8270083333333...|1560308280|\n",
      "|     Bus|CH184703916|[48.82687, 2.3549...|1560308340|\n",
      "|Domicile|CH184703916|[48.8269683333333...|1560308400|\n",
      "|     Rue|CH184703916|[48.8270716666667...|1560308460|\n",
      "|   Train|CH184703916|[48.8270883333333...|1560308520|\n",
      "|     Rue|CH184703916|[48.82708, 2.355665]|1560308580|\n",
      "|Domicile|CH184703942|[48.882793, 2.324...|1560308640|\n",
      "|     Rue|CH184703942|[48.883111, 2.324...|1560308700|\n",
      "|     Rue|CH184703942|[48.88324, 2.324686]|1560308760|\n",
      "|     Rue|CH184703942|[48.885493, 2.319...|1560308820|\n",
      "+--------+-----------+--------------------+----------+\n",
      "only showing top 20 rows\n",
      "\n"
     ]
    }
   ],
   "source": [
    "df.show()"
   ]
  },
  {
   "cell_type": "markdown",
   "metadata": {},
   "source": [
    "## Temporal Projection\n",
    "Apply a linear function on each value of the time series"
   ]
  },
  {
   "cell_type": "code",
   "execution_count": 66,
   "metadata": {},
   "outputs": [],
   "source": [
    "query = 'TProj[PM10*2]'"
   ]
  },
  {
   "cell_type": "code",
   "execution_count": 67,
   "metadata": {},
   "outputs": [],
   "source": [
    "def temporal_projection(query):\n",
    "    predicate = query[6:-1]\n",
    "    for op in ops.keys():\n",
    "        s = predicate.split(op)\n",
    "        if len(s) == 2:\n",
    "            if '.' in s[1]:\n",
    "                n = float(s[1])\n",
    "            else:\n",
    "                n = int(s[1])\n",
    "            return s[0], op, n"
   ]
  },
  {
   "cell_type": "code",
   "execution_count": 70,
   "metadata": {},
   "outputs": [],
   "source": [
    "attribute, op, number = temporal_projection(query)"
   ]
  },
  {
   "cell_type": "code",
   "execution_count": 75,
   "metadata": {},
   "outputs": [
    {
     "name": "stdout",
     "output_type": "stream",
     "text": [
      "+-----+----+-----+----+----+--------+--------------------+--------------------+----------+\n",
      "|PM2_5|PM10|PM1_0| NO2|  BC|activity|               event|         coordinates| timestamp|\n",
      "+-----+----+-----+----+----+--------+--------------------+--------------------+----------+\n",
      "|   12|  13|   13|NULL|1509|Domicile|Ouverture De Fenêtre|[48.83652667, 2.5...|1560314880|\n",
      "|    4|   4|    4|NULL|1105|     Rue|                NULL|[48.83594167, 2.5...|1560314940|\n",
      "|    1|   1|    1|NULL| 917|     Bus|                NULL| [48.83648, 2.52973]|1560315000|\n",
      "|    1|   1|    1|NULL| 974|     Rue|                NULL|[48.83635833, 2.5...|1560315060|\n",
      "|    2|   2|    2|NULL| 846|  Bureau|Ouverture De Fenêtre|[48.83620333, 2.5...|1560315120|\n",
      "|    0|   0|    0|NULL| 114|     Rue|                NULL|[48.82939833, 2.3...|1560315180|\n",
      "|   18|  20|   20|NULL|2198|   Métro|                NULL|[48.83160167, 2.3...|1560315240|\n",
      "|    0|   0|    0|NULL| 364|Domicile|                NULL|[48.826745, 2.355...|1560315300|\n",
      "|  158| 177|  177|NULL| 666|     Rue|                NULL|[48.82704667, 2.3...|1560315360|\n",
      "|  171| 191|  191|NULL|4315| Magasin|                NULL|[48.82690833, 2.3...|1560315420|\n",
      "|   71|  77|   77|NULL|2158|     Rue|                NULL|[48.82700833, 2.3...|1560315480|\n",
      "|   35|  41|   41|NULL|1288|     Bus|                NULL|[48.82687, 2.3549...|1560315540|\n",
      "|    1|   1|    1|NULL| 473|Domicile|                NULL|[48.82696833, 2.3...|1560315600|\n",
      "|    4|   5|    5|NULL| 807|     Rue|                NULL|[48.82707167, 2.3...|1560437820|\n",
      "|    1|   3|    3|NULL| 592|   Train|                NULL|[48.82708833, 2.3...|1560437880|\n",
      "|    0|   2|    2|NULL| 159|     Rue|                NULL|[48.82708, 2.355665]|1560437940|\n",
      "| NULL|NULL| NULL|   4| 593| Voiture|                NULL|  [48.87976, 2.7105]|1560615420|\n",
      "| NULL|NULL| NULL|   6| 660|     Rue|                NULL|[48.87976167, 2.7...|1560615480|\n",
      "| NULL|NULL| NULL|   3| 808| Inconnu|                NULL|[48.88007833, 2.7...|1560615540|\n",
      "|    2|   2|    2|   6| 207| Voiture|                NULL|[48.82718833, 2.3...|1560615600|\n",
      "+-----+----+-----+----+----+--------+--------------------+--------------------+----------+\n",
      "only showing top 20 rows\n",
      "\n"
     ]
    }
   ],
   "source": [
    "df = unpack('part', all_files2)\n",
    "df.show()"
   ]
  },
  {
   "cell_type": "code",
   "execution_count": 73,
   "metadata": {},
   "outputs": [],
   "source": [
    "df = df.withColumn(attribute, ops.get(op)(col(attribute), number))"
   ]
  },
  {
   "cell_type": "code",
   "execution_count": 74,
   "metadata": {},
   "outputs": [
    {
     "name": "stdout",
     "output_type": "stream",
     "text": [
      "+-----+-----+-----+----+----+--------+--------------------+--------------------+----------+\n",
      "|PM2_5| PM10|PM1_0| NO2|  BC|activity|               event|         coordinates| timestamp|\n",
      "+-----+-----+-----+----+----+--------+--------------------+--------------------+----------+\n",
      "|   12| 26.0|   13|NULL|1509|Domicile|Ouverture De Fenêtre|[48.83652667, 2.5...|1560314880|\n",
      "|    4|  8.0|    4|NULL|1105|     Rue|                NULL|[48.83594167, 2.5...|1560314940|\n",
      "|    1|  2.0|    1|NULL| 917|     Bus|                NULL| [48.83648, 2.52973]|1560315000|\n",
      "|    1|  2.0|    1|NULL| 974|     Rue|                NULL|[48.83635833, 2.5...|1560315060|\n",
      "|    2|  4.0|    2|NULL| 846|  Bureau|Ouverture De Fenêtre|[48.83620333, 2.5...|1560315120|\n",
      "|    0|  0.0|    0|NULL| 114|     Rue|                NULL|[48.82939833, 2.3...|1560315180|\n",
      "|   18| 40.0|   20|NULL|2198|   Métro|                NULL|[48.83160167, 2.3...|1560315240|\n",
      "|    0|  0.0|    0|NULL| 364|Domicile|                NULL|[48.826745, 2.355...|1560315300|\n",
      "|  158|354.0|  177|NULL| 666|     Rue|                NULL|[48.82704667, 2.3...|1560315360|\n",
      "|  171|382.0|  191|NULL|4315| Magasin|                NULL|[48.82690833, 2.3...|1560315420|\n",
      "|   71|154.0|   77|NULL|2158|     Rue|                NULL|[48.82700833, 2.3...|1560315480|\n",
      "|   35| 82.0|   41|NULL|1288|     Bus|                NULL|[48.82687, 2.3549...|1560315540|\n",
      "|    1|  2.0|    1|NULL| 473|Domicile|                NULL|[48.82696833, 2.3...|1560315600|\n",
      "|    4| 10.0|    5|NULL| 807|     Rue|                NULL|[48.82707167, 2.3...|1560437820|\n",
      "|    1|  6.0|    3|NULL| 592|   Train|                NULL|[48.82708833, 2.3...|1560437880|\n",
      "|    0|  4.0|    2|NULL| 159|     Rue|                NULL|[48.82708, 2.355665]|1560437940|\n",
      "| NULL| null| NULL|   4| 593| Voiture|                NULL|  [48.87976, 2.7105]|1560615420|\n",
      "| NULL| null| NULL|   6| 660|     Rue|                NULL|[48.87976167, 2.7...|1560615480|\n",
      "| NULL| null| NULL|   3| 808| Inconnu|                NULL|[48.88007833, 2.7...|1560615540|\n",
      "|    2|  4.0|    2|   6| 207| Voiture|                NULL|[48.82718833, 2.3...|1560615600|\n",
      "+-----+-----+-----+----+----+--------+--------------------+--------------------+----------+\n",
      "only showing top 20 rows\n",
      "\n"
     ]
    }
   ],
   "source": [
    "df.show()"
   ]
  },
  {
   "cell_type": "markdown",
   "metadata": {},
   "source": [
    "## Shift\n",
    "Applies a shift to each timestamp of the timeseries"
   ]
  },
  {
   "cell_type": "code",
   "execution_count": 126,
   "metadata": {},
   "outputs": [],
   "source": [
    "query = 'Shift[1 hour]'"
   ]
  },
  {
   "cell_type": "code",
   "execution_count": 127,
   "metadata": {},
   "outputs": [],
   "source": [
    "def shift(query):\n",
    "    predicate = query[6:-1]\n",
    "    s = predicate.split(' ')\n",
    "    return int(s[0]), s[1], None"
   ]
  },
  {
   "cell_type": "code",
   "execution_count": 128,
   "metadata": {},
   "outputs": [],
   "source": [
    "n, duration, _ = shift(query)"
   ]
  },
  {
   "cell_type": "code",
   "execution_count": 129,
   "metadata": {},
   "outputs": [
    {
     "data": {
      "text/plain": [
       "3600"
      ]
     },
     "execution_count": 129,
     "metadata": {},
     "output_type": "execute_result"
    }
   ],
   "source": [
    "step = calculate_step_in_seconds(duration) * n\n",
    "step"
   ]
  },
  {
   "cell_type": "code",
   "execution_count": 122,
   "metadata": {},
   "outputs": [
    {
     "name": "stdout",
     "output_type": "stream",
     "text": [
      "+--------+-----------+--------------------+----------+\n",
      "|activity|  tablet_id|         coordinates| timestamp|\n",
      "+--------+-----------+--------------------+----------+\n",
      "|Domicile|CH184703916|[48.8365266666667...|1560307680|\n",
      "|     Rue|CH184703916|[48.8359416666667...|1560307740|\n",
      "|     Bus|CH184703916| [48.83648, 2.52973]|1560307800|\n",
      "|     Rue|CH184703916|[48.8363583333333...|1560307860|\n",
      "|  Bureau|CH184703916|[48.8362033333333...|1560307920|\n",
      "|     Rue|CH184703916|[48.8293983333333...|1560307980|\n",
      "|   Métro|CH184703916|[48.8316016666667...|1560308040|\n",
      "|Domicile|CH184703916|[48.826745, 2.355...|1560308100|\n",
      "|     Rue|CH184703916|[48.8270466666667...|1560308160|\n",
      "| Magasin|CH184703916|[48.8269083333333...|1560308220|\n",
      "|     Rue|CH184703916|[48.8270083333333...|1560308280|\n",
      "|     Bus|CH184703916|[48.82687, 2.3549...|1560308340|\n",
      "|Domicile|CH184703916|[48.8269683333333...|1560308400|\n",
      "|     Rue|CH184703916|[48.8270716666667...|1560308460|\n",
      "|   Train|CH184703916|[48.8270883333333...|1560308520|\n",
      "|     Rue|CH184703916|[48.82708, 2.355665]|1560308580|\n",
      "|Domicile|CH184703942|[48.882793, 2.324...|1560308640|\n",
      "|     Rue|CH184703942|[48.883111, 2.324...|1560308700|\n",
      "|     Rue|CH184703942|[48.88324, 2.324686]|1560308760|\n",
      "|     Rue|CH184703942|[48.885493, 2.319...|1560308820|\n",
      "+--------+-----------+--------------------+----------+\n",
      "only showing top 20 rows\n",
      "\n"
     ]
    }
   ],
   "source": [
    "df = unpack(base_path, [all_files])\n",
    "df.show()"
   ]
  },
  {
   "cell_type": "code",
   "execution_count": 130,
   "metadata": {},
   "outputs": [
    {
     "name": "stdout",
     "output_type": "stream",
     "text": [
      "+--------+-----------+--------------------+------------------+-----------------+\n",
      "|activity|  tablet_id|         coordinates|timestamp_original|timestamp_shifted|\n",
      "+--------+-----------+--------------------+------------------+-----------------+\n",
      "|Domicile|CH184703916|[48.8365266666667...|        1560307680|       1560311280|\n",
      "|     Rue|CH184703916|[48.8359416666667...|        1560307740|       1560311340|\n",
      "|     Bus|CH184703916| [48.83648, 2.52973]|        1560307800|       1560311400|\n",
      "|     Rue|CH184703916|[48.8363583333333...|        1560307860|       1560311460|\n",
      "|  Bureau|CH184703916|[48.8362033333333...|        1560307920|       1560311520|\n",
      "|     Rue|CH184703916|[48.8293983333333...|        1560307980|       1560311580|\n",
      "|   Métro|CH184703916|[48.8316016666667...|        1560308040|       1560311640|\n",
      "|Domicile|CH184703916|[48.826745, 2.355...|        1560308100|       1560311700|\n",
      "|     Rue|CH184703916|[48.8270466666667...|        1560308160|       1560311760|\n",
      "| Magasin|CH184703916|[48.8269083333333...|        1560308220|       1560311820|\n",
      "|     Rue|CH184703916|[48.8270083333333...|        1560308280|       1560311880|\n",
      "|     Bus|CH184703916|[48.82687, 2.3549...|        1560308340|       1560311940|\n",
      "|Domicile|CH184703916|[48.8269683333333...|        1560308400|       1560312000|\n",
      "|     Rue|CH184703916|[48.8270716666667...|        1560308460|       1560312060|\n",
      "|   Train|CH184703916|[48.8270883333333...|        1560308520|       1560312120|\n",
      "|     Rue|CH184703916|[48.82708, 2.355665]|        1560308580|       1560312180|\n",
      "|Domicile|CH184703942|[48.882793, 2.324...|        1560308640|       1560312240|\n",
      "|     Rue|CH184703942|[48.883111, 2.324...|        1560308700|       1560312300|\n",
      "|     Rue|CH184703942|[48.88324, 2.324686]|        1560308760|       1560312360|\n",
      "|     Rue|CH184703942|[48.885493, 2.319...|        1560308820|       1560312420|\n",
      "+--------+-----------+--------------------+------------------+-----------------+\n",
      "only showing top 20 rows\n",
      "\n"
     ]
    }
   ],
   "source": [
    "df1 = df.withColumn('timestamp_shifted', df.timestamp + step).withColumnRenamed('timestamp', 'timestamp_original')\n",
    "df1.show()"
   ]
  },
  {
   "cell_type": "code",
   "execution_count": 131,
   "metadata": {},
   "outputs": [
    {
     "name": "stdout",
     "output_type": "stream",
     "text": [
      "+--------+-----------+--------------------+------------------+-----------------+----------+-----------+--------------------+\n",
      "|activity|  tablet_id|         coordinates|timestamp_original|timestamp_shifted|  activity|  tablet_id|         coordinates|\n",
      "+--------+-----------+--------------------+------------------+-----------------+----------+-----------+--------------------+\n",
      "|Domicile|CH184703916|[48.8365266666667...|        1560307680|       1560311280|  Domicile|CH184703920|[48.8478393555, 2...|\n",
      "|     Rue|CH184703916|[48.8359416666667...|        1560307740|       1560311340|       Rue|CH184703942|[48.883237, 2.324...|\n",
      "|     Bus|CH184703916| [48.83648, 2.52973]|        1560307800|       1560311400|       Rue|CH184703920|[48.8147087097, 2...|\n",
      "|     Rue|CH184703916|[48.8363583333333...|        1560307860|       1560311460|    Bureau|CH184703920|[48.8147087097, 2...|\n",
      "|  Bureau|CH184703916|[48.8362033333333...|        1560307920|       1560311520|       Rue|CH184703949|[48.8811035156, 2...|\n",
      "|     Rue|CH184703916|[48.8293983333333...|        1560307980|       1560311580|     Métro|CH184703949|[48.8797683716, 2...|\n",
      "|   Métro|CH184703916|[48.8316016666667...|        1560308040|       1560311640|    Bureau|CH184703949|[48.8797683716, 2...|\n",
      "|Domicile|CH184703916|[48.826745, 2.355...|        1560308100|       1560311700|       Rue|CH184703942|[48.860813, 2.312...|\n",
      "|     Rue|CH184703916|[48.8270466666667...|        1560308160|       1560311760|       Rue|CH184703949|[47.9599380493, 2...|\n",
      "| Magasin|CH184703916|[48.8269083333333...|        1560308220|       1560311820|    Bureau|CH184703949|[47.9599380493, 2...|\n",
      "|     Rue|CH184703916|[48.8270083333333...|        1560308280|       1560311880|       Rue|CH184703942|[48.883247, 2.324...|\n",
      "|     Bus|CH184703916|[48.82687, 2.3549...|        1560308340|       1560311940|       Rue|CH184703949|[47.9599380493, 2...|\n",
      "|Domicile|CH184703916|[48.8269683333333...|        1560308400|       1560312000|Restaurant|CH184703949|[47.9599380493, 2...|\n",
      "|     Rue|CH184703916|[48.8270716666667...|        1560308460|       1560312060|Restaurant|CH184703920|[48.8153114319, 2...|\n",
      "|   Train|CH184703916|[48.8270883333333...|        1560308520|       1560312120|    Bureau|CH184703949|[47.9599380493, 2...|\n",
      "|     Rue|CH184703916|[48.82708, 2.355665]|        1560308580|       1560312180|    Bureau|CH184703920|[48.8226356506, 2...|\n",
      "|Domicile|CH184703942|[48.882793, 2.324...|        1560308640|       1560312240|       Rue|CH184703942|[48.883153, 2.327...|\n",
      "|     Rue|CH184703942|[48.883111, 2.324...|        1560308700|       1560312300|       Rue|CH184703942|[48.883193, 2.32486]|\n",
      "|     Rue|CH184703942|[48.88324, 2.324686]|        1560308760|       1560312360|   Inconnu|CH184703942|[48.883246, 2.32482]|\n",
      "|     Rue|CH184703942|[48.885493, 2.319...|        1560308820|       1560312420|      Parc|CH184703920|[48.8394927979, 2...|\n",
      "+--------+-----------+--------------------+------------------+-----------------+----------+-----------+--------------------+\n",
      "only showing top 20 rows\n",
      "\n"
     ]
    }
   ],
   "source": [
    "df_joined = df1.join(df, df1.timestamp_shifted == df.timestamp, \"inner\").drop('timestamp')\n",
    "df_joined.show()"
   ]
  },
  {
   "cell_type": "markdown",
   "metadata": {},
   "source": [
    "## Temporal Intersection, Difference & Union"
   ]
  },
  {
   "cell_type": "markdown",
   "metadata": {},
   "source": [
    "## Temporal Aggregation"
   ]
  },
  {
   "cell_type": "code",
   "execution_count": 38,
   "metadata": {},
   "outputs": [],
   "source": [
    "query = 'TAgg[1 day,avg(PM10)]'"
   ]
  },
  {
   "cell_type": "code",
   "execution_count": 39,
   "metadata": {},
   "outputs": [],
   "source": [
    "def temporal_aggregation(query):\n",
    "    predicate = query[5:-1]\n",
    "    s = predicate.split(',')\n",
    "    s2 = s[1].split('(')\n",
    "    return s[0], s2[1][:-1], s2[0]"
   ]
  },
  {
   "cell_type": "code",
   "execution_count": 40,
   "metadata": {},
   "outputs": [],
   "source": [
    "duration, attribute, agg = query_dispatcher(query)"
   ]
  },
  {
   "cell_type": "code",
   "execution_count": 36,
   "metadata": {},
   "outputs": [],
   "source": [
    "df = unpack('part', all_files2)"
   ]
  },
  {
   "cell_type": "code",
   "execution_count": 37,
   "metadata": {},
   "outputs": [
    {
     "name": "stdout",
     "output_type": "stream",
     "text": [
      "+-----+----+-----+----+----+--------+--------------------+--------------------+----------+\n",
      "|PM2_5|PM10|PM1_0| NO2|  BC|activity|               event|         coordinates| timestamp|\n",
      "+-----+----+-----+----+----+--------+--------------------+--------------------+----------+\n",
      "|   12|  13|   13|NULL|1509|Domicile|Ouverture De Fenêtre|[48.83652667, 2.5...|1560314880|\n",
      "|    4|   4|    4|NULL|1105|     Rue|                NULL|[48.83594167, 2.5...|1560314940|\n",
      "|    1|   1|    1|NULL| 917|     Bus|                NULL| [48.83648, 2.52973]|1560315000|\n",
      "|    1|   1|    1|NULL| 974|     Rue|                NULL|[48.83635833, 2.5...|1560315060|\n",
      "|    2|   2|    2|NULL| 846|  Bureau|Ouverture De Fenêtre|[48.83620333, 2.5...|1560315120|\n",
      "|    0|   0|    0|NULL| 114|     Rue|                NULL|[48.82939833, 2.3...|1560315180|\n",
      "|   18|  20|   20|NULL|2198|   Métro|                NULL|[48.83160167, 2.3...|1560315240|\n",
      "|    0|   0|    0|NULL| 364|Domicile|                NULL|[48.826745, 2.355...|1560315300|\n",
      "|  158| 177|  177|NULL| 666|     Rue|                NULL|[48.82704667, 2.3...|1560315360|\n",
      "|  171| 191|  191|NULL|4315| Magasin|                NULL|[48.82690833, 2.3...|1560315420|\n",
      "|   71|  77|   77|NULL|2158|     Rue|                NULL|[48.82700833, 2.3...|1560315480|\n",
      "|   35|  41|   41|NULL|1288|     Bus|                NULL|[48.82687, 2.3549...|1560315540|\n",
      "|    1|   1|    1|NULL| 473|Domicile|                NULL|[48.82696833, 2.3...|1560315600|\n",
      "|    4|   5|    5|NULL| 807|     Rue|                NULL|[48.82707167, 2.3...|1560437820|\n",
      "|    1|   3|    3|NULL| 592|   Train|                NULL|[48.82708833, 2.3...|1560437880|\n",
      "|    0|   2|    2|NULL| 159|     Rue|                NULL|[48.82708, 2.355665]|1560437940|\n",
      "| NULL|NULL| NULL|   4| 593| Voiture|                NULL|  [48.87976, 2.7105]|1560615420|\n",
      "| NULL|NULL| NULL|   6| 660|     Rue|                NULL|[48.87976167, 2.7...|1560615480|\n",
      "| NULL|NULL| NULL|   3| 808| Inconnu|                NULL|[48.88007833, 2.7...|1560615540|\n",
      "|    2|   2|    2|   6| 207| Voiture|                NULL|[48.82718833, 2.3...|1560615600|\n",
      "+-----+----+-----+----+----+--------+--------------------+--------------------+----------+\n",
      "only showing top 20 rows\n",
      "\n"
     ]
    }
   ],
   "source": [
    "df.show()"
   ]
  },
  {
   "cell_type": "code",
   "execution_count": 41,
   "metadata": {},
   "outputs": [
    {
     "data": {
      "text/plain": [
       "86400"
      ]
     },
     "execution_count": 41,
     "metadata": {},
     "output_type": "execute_result"
    }
   ],
   "source": [
    "step = calculate_step_from_string(duration)\n",
    "step"
   ]
  },
  {
   "cell_type": "code",
   "execution_count": 42,
   "metadata": {},
   "outputs": [],
   "source": [
    "first_timestamp = df.select('timestamp').first()[0]"
   ]
  },
  {
   "cell_type": "code",
   "execution_count": 43,
   "metadata": {},
   "outputs": [],
   "source": [
    "df1 = df.withColumn('first_timestamp', lit(first_timestamp))"
   ]
  },
  {
   "cell_type": "code",
   "execution_count": 44,
   "metadata": {},
   "outputs": [],
   "source": [
    "df1 = df1.withColumn('group', ((df1.timestamp - df1.first_timestamp)/lit(step)).cast(\"integer\")).drop(\n",
    "    'first_timestamp')"
   ]
  },
  {
   "cell_type": "code",
   "execution_count": 45,
   "metadata": {},
   "outputs": [],
   "source": [
    "if agg == 'count':\n",
    "    group = df1.groupBy('group', attribute).count()\n",
    "elif agg == 'avg':\n",
    "    group = df1.groupBy('group').agg(mean(attribute))   "
   ]
  },
  {
   "cell_type": "code",
   "execution_count": 46,
   "metadata": {},
   "outputs": [
    {
     "name": "stdout",
     "output_type": "stream",
     "text": [
      "+-----+------------------+\n",
      "|group|         avg(PM10)|\n",
      "+-----+------------------+\n",
      "|    0| 40.61538461538461|\n",
      "|    1|3.3333333333333335|\n",
      "|    3| 7.833333333333333|\n",
      "|    5|2.3333333333333335|\n",
      "+-----+------------------+\n",
      "\n"
     ]
    }
   ],
   "source": [
    "group.sort('group').show()"
   ]
  },
  {
   "cell_type": "markdown",
   "metadata": {},
   "source": [
    "## Window Aggregation"
   ]
  },
  {
   "cell_type": "code",
   "execution_count": 88,
   "metadata": {},
   "outputs": [],
   "source": [
    "query = 'WAgg[1 day,avg(PM10)]'"
   ]
  },
  {
   "cell_type": "code",
   "execution_count": 89,
   "metadata": {},
   "outputs": [],
   "source": [
    "def window_aggregation(query):\n",
    "    predicate = query[5:-1]\n",
    "    s = predicate.split(',')\n",
    "    s1 = s[0].split(' ')\n",
    "    step = calculate_step_in_seconds(s1[1]) * int(s1[0])\n",
    "    s2 = s[1].split('(')\n",
    "    return step, s2[1][:-1], s2[0]"
   ]
  },
  {
   "cell_type": "code",
   "execution_count": 90,
   "metadata": {},
   "outputs": [],
   "source": [
    "step, attribute, agg = query_dispatcher(query)"
   ]
  },
  {
   "cell_type": "code",
   "execution_count": 91,
   "metadata": {},
   "outputs": [],
   "source": [
    "window = Window.orderBy('timestamp').rangeBetween(0, step)"
   ]
  },
  {
   "cell_type": "code",
   "execution_count": 84,
   "metadata": {},
   "outputs": [],
   "source": [
    "df = unpack('part', all_files2)"
   ]
  },
  {
   "cell_type": "code",
   "execution_count": 92,
   "metadata": {},
   "outputs": [],
   "source": [
    "all_original_columns = df.columns"
   ]
  },
  {
   "cell_type": "code",
   "execution_count": 93,
   "metadata": {},
   "outputs": [],
   "source": [
    "column_name = agg + '(' + attribute + ')'\n",
    "if agg == 'count':\n",
    "    df1 = df.withColumn(column_name, (collect_list(attribute).over(window)))\n",
    "    df1 = df1.select('*', explode(column_name).alias('exploded')).filter(col(attribute) == col('exploded'))\\\n",
    "    .groupBy(*all_original_columns, column_name).count()\n",
    "    df1 = df1.drop(column_name, 'exploded')\n",
    "elif agg == 'avg':\n",
    "    df1 = df.withColumn(column_name, avg(attribute).over(window))"
   ]
  },
  {
   "cell_type": "code",
   "execution_count": 94,
   "metadata": {},
   "outputs": [
    {
     "name": "stdout",
     "output_type": "stream",
     "text": [
      "+-----+----+-----+----+----+--------+--------------------+--------------------------+----------+-----+\n",
      "|PM2_5|PM10|PM1_0|NO2 |BC  |activity|event               |coordinates               |timestamp |count|\n",
      "+-----+----+-----+----+----+--------+--------------------+--------------------------+----------+-----+\n",
      "|12   |13  |13   |NULL|1509|Domicile|Ouverture De Fenêtre|[48.83652667, 2.529348333]|1560314880|1    |\n",
      "|4    |4   |4    |NULL|1105|Rue     |NULL                |[48.83594167, 2.530051667]|1560314940|1    |\n",
      "|1    |1   |1    |NULL|917 |Bus     |NULL                |[48.83648, 2.52973]       |1560315000|3    |\n",
      "|1    |1   |1    |NULL|974 |Rue     |NULL                |[48.83635833, 2.529766667]|1560315060|2    |\n",
      "|2    |2   |2    |NULL|846 |Bureau  |Ouverture De Fenêtre|[48.83620333, 2.52943]    |1560315120|1    |\n",
      "|0    |0   |0    |NULL|114 |Rue     |NULL                |[48.82939833, 2.315678333]|1560315180|2    |\n",
      "|18   |20  |20   |NULL|2198|Métro   |NULL                |[48.83160167, 2.313843333]|1560315240|1    |\n",
      "|0    |0   |0    |NULL|364 |Domicile|NULL                |[48.826745, 2.355156667]  |1560315300|1    |\n",
      "|158  |177 |177  |NULL|666 |Rue     |NULL                |[48.82704667, 2.355033333]|1560315360|1    |\n",
      "|171  |191 |191  |NULL|4315|Magasin |NULL                |[48.82690833, 2.354735]   |1560315420|1    |\n",
      "+-----+----+-----+----+----+--------+--------------------+--------------------------+----------+-----+\n",
      "only showing top 10 rows\n",
      "\n"
     ]
    }
   ],
   "source": [
    "df1.show(10, False)"
   ]
  },
  {
   "cell_type": "code",
   "execution_count": null,
   "metadata": {},
   "outputs": [],
   "source": []
  }
 ],
 "metadata": {
  "kernelspec": {
   "display_name": "Python 3",
   "language": "python",
   "name": "python3"
  },
  "language_info": {
   "codemirror_mode": {
    "name": "ipython",
    "version": 3
   },
   "file_extension": ".py",
   "mimetype": "text/x-python",
   "name": "python",
   "nbconvert_exporter": "python",
   "pygments_lexer": "ipython3",
   "version": "3.6.8"
  }
 },
 "nbformat": 4,
 "nbformat_minor": 2
}
