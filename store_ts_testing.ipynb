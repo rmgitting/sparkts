{
 "cells": [
  {
   "cell_type": "markdown",
   "metadata": {},
   "source": [
    "# Load the initial Data"
   ]
  },
  {
   "cell_type": "code",
   "execution_count": 85,
   "metadata": {},
   "outputs": [],
   "source": [
    "df = spark.read.csv('ts.csv', inferSchema=True, header=True, timestampFormat='yyyy-MM-dd HH:mm:ss+ss')"
   ]
  },
  {
   "cell_type": "markdown",
   "metadata": {},
   "source": [
    "## Transform the timestamp into a unix epoch"
   ]
  },
  {
   "cell_type": "code",
   "execution_count": 86,
   "metadata": {},
   "outputs": [],
   "source": [
    "df = df.withColumn(\"timestamp_epoch\", df.timestamp.cast(\"long\")).sort('timestamp_epoch')"
   ]
  },
  {
   "cell_type": "code",
   "execution_count": 87,
   "metadata": {},
   "outputs": [
    {
     "name": "stdout",
     "output_type": "stream",
     "text": [
      "+-------------------+-----------+----------------+----------------+--------+---------------+\n",
      "|          timestamp|  tablet_id|             lat|             lon|activity|timestamp_epoch|\n",
      "+-------------------+-----------+----------------+----------------+--------+---------------+\n",
      "|2019-06-12 04:48:00|CH184703916|48.8365266666667|2.52934833333333|Domicile|     1560307680|\n",
      "|2019-06-12 04:48:00|CH184703916|       48.836355|        2.529325|Domicile|     1560307680|\n",
      "|2019-06-12 05:32:00|CH184703916|48.8359416666667|2.53005166666667|     Rue|     1560310320|\n",
      "|2019-06-12 05:32:00|CH184703916|48.8360366666667|         2.52985|     Rue|     1560310320|\n",
      "|2019-06-12 06:16:00|CH184703916|        48.83648|         2.52973|     Bus|     1560312960|\n",
      "|2019-06-12 06:23:00|CH184703916|        48.83642|         2.52948|     Rue|     1560313380|\n",
      "|2019-06-12 06:23:00|CH184703916|48.8363583333333|2.52976666666667|     Rue|     1560313380|\n",
      "|2019-06-12 06:28:00|CH184703916|48.8359583333333|2.52940333333333|  Bureau|     1560313680|\n",
      "|2019-06-12 06:28:00|CH184703916|48.8362033333333|         2.52943|  Bureau|     1560313680|\n",
      "|2019-06-12 15:38:00|CH184703916|48.8293983333333|2.31567833333333|     Rue|     1560346680|\n",
      "|2019-06-12 15:38:00|CH184703916|       48.829615|2.31534833333333|     Rue|     1560346680|\n",
      "|2019-06-12 16:06:00|CH184703916|48.8316016666667|2.31384333333333|   Métro|     1560348360|\n",
      "|2019-06-12 16:06:00|CH184703916|48.8319683333333|2.31350833333333|   Métro|     1560348360|\n",
      "|2019-06-12 16:58:00|CH184703916|       48.826745|2.35515666666667|Domicile|     1560351480|\n",
      "|2019-06-12 16:58:00|CH184703916|       48.826745|2.35515666666667|Domicile|     1560351480|\n",
      "|2019-06-12 17:36:00|CH184703916|48.8270466666667|2.35503333333333|     Rue|     1560353760|\n",
      "|2019-06-12 17:36:00|CH184703916|48.8269533333333|2.35476666666667|     Rue|     1560353760|\n",
      "|2019-06-12 17:41:00|CH184703916|48.8269083333333|        2.354735| Magasin|     1560354060|\n",
      "|2019-06-12 17:41:00|CH184703916|48.8267733333333|2.35488166666667| Magasin|     1560354060|\n",
      "|2019-06-12 17:56:00|CH184703916|48.8270083333333|2.35462666666667|     Rue|     1560354960|\n",
      "+-------------------+-----------+----------------+----------------+--------+---------------+\n",
      "only showing top 20 rows\n",
      "\n"
     ]
    }
   ],
   "source": [
    "df.show(20)"
   ]
  },
  {
   "cell_type": "code",
   "execution_count": 34,
   "metadata": {},
   "outputs": [
    {
     "name": "stdout",
     "output_type": "stream",
     "text": [
      "root\n",
      " |-- timestamp: timestamp (nullable = true)\n",
      " |-- tablet_id: string (nullable = true)\n",
      " |-- lat: double (nullable = true)\n",
      " |-- lon: double (nullable = true)\n",
      " |-- activity: string (nullable = true)\n",
      " |-- timestamp_epoch: long (nullable = true)\n",
      "\n"
     ]
    }
   ],
   "source": [
    "df.printSchema()"
   ]
  },
  {
   "cell_type": "code",
   "execution_count": 88,
   "metadata": {},
   "outputs": [],
   "source": [
    "from pyspark.sql.functions import *\n",
    "from pyspark.sql.window import Window\n",
    "from pyspark.sql.types import *"
   ]
  },
  {
   "cell_type": "markdown",
   "metadata": {},
   "source": [
    "## Concatenating the different measures into one column"
   ]
  },
  {
   "cell_type": "code",
   "execution_count": 89,
   "metadata": {},
   "outputs": [],
   "source": [
    "def concat(*args):\n",
    "    return [arg for arg in args]\n",
    "concat_udf = udf(concat, StringType())"
   ]
  },
  {
   "cell_type": "code",
   "execution_count": 90,
   "metadata": {},
   "outputs": [],
   "source": [
    "cols = [c for c in df.columns if not c.startswith(\"timestamp\") and not c.startswith(\"lat\") and not c.startswith(\"lon\")]\n",
    "coords = [c for c in df.columns if c.startswith(\"lat\") or c.startswith(\"lon\")]\n"
   ]
  },
  {
   "cell_type": "code",
   "execution_count": 91,
   "metadata": {},
   "outputs": [],
   "source": [
    "df1 = df.select('timestamp_epoch', *cols, concat_udf(*coords).alias('coordinates'))"
   ]
  },
  {
   "cell_type": "markdown",
   "metadata": {},
   "source": [
    "### Droping the duplicated timestamps (instantaneous activities)"
   ]
  },
  {
   "cell_type": "code",
   "execution_count": 92,
   "metadata": {},
   "outputs": [],
   "source": [
    "df1 = df1.drop_duplicates(['timestamp_epoch']).sort('timestamp_epoch')"
   ]
  },
  {
   "cell_type": "code",
   "execution_count": 93,
   "metadata": {},
   "outputs": [
    {
     "data": {
      "text/plain": [
       "724"
      ]
     },
     "execution_count": 93,
     "metadata": {},
     "output_type": "execute_result"
    }
   ],
   "source": [
    "df1.count()"
   ]
  },
  {
   "cell_type": "code",
   "execution_count": 94,
   "metadata": {
    "scrolled": false
   },
   "outputs": [
    {
     "name": "stdout",
     "output_type": "stream",
     "text": [
      "+---------------+-----------+--------+------------------------------------+\n",
      "|timestamp_epoch|tablet_id  |activity|coordinates                         |\n",
      "+---------------+-----------+--------+------------------------------------+\n",
      "|1560307680     |CH184703916|Domicile|[48.8365266666667, 2.52934833333333]|\n",
      "|1560310320     |CH184703916|Rue     |[48.8359416666667, 2.53005166666667]|\n",
      "|1560312960     |CH184703916|Bus     |[48.83648, 2.52973]                 |\n",
      "|1560313380     |CH184703916|Rue     |[48.8363583333333, 2.52976666666667]|\n",
      "|1560313680     |CH184703916|Bureau  |[48.8362033333333, 2.52943]         |\n",
      "|1560346680     |CH184703916|Rue     |[48.8293983333333, 2.31567833333333]|\n",
      "|1560348360     |CH184703916|Métro   |[48.8316016666667, 2.31384333333333]|\n",
      "|1560351480     |CH184703916|Domicile|[48.826745, 2.35515666666667]       |\n",
      "|1560353760     |CH184703916|Rue     |[48.8270466666667, 2.35503333333333]|\n",
      "|1560354060     |CH184703916|Magasin |[48.8269083333333, 2.354735]        |\n",
      "+---------------+-----------+--------+------------------------------------+\n",
      "only showing top 10 rows\n",
      "\n"
     ]
    }
   ],
   "source": [
    "df1.show(10, False)"
   ]
  },
  {
   "cell_type": "code",
   "execution_count": 11,
   "metadata": {},
   "outputs": [
    {
     "name": "stdout",
     "output_type": "stream",
     "text": [
      "u09vcd3v6h6v\n",
      "(48.836526749655604, 2.529348414391279)\n"
     ]
    }
   ],
   "source": [
    "import Geohash\n",
    "print(Geohash.encode(48.8365266666667,2.52934833333333))\n",
    "print(Geohash.decode(Geohash.encode(48.8365266666667,2.52934833333333)))"
   ]
  },
  {
   "cell_type": "markdown",
   "metadata": {},
   "source": [
    "## Statistics about the interval between observations"
   ]
  },
  {
   "cell_type": "code",
   "execution_count": 12,
   "metadata": {
    "scrolled": false
   },
   "outputs": [
    {
     "name": "stdout",
     "output_type": "stream",
     "text": [
      "+---------------+-----------+--------+--------------------+------------------+-----+\n",
      "|timestamp_epoch|  tablet_id|activity|         coordinates|timestamp_previous| diff|\n",
      "+---------------+-----------+--------+--------------------+------------------+-----+\n",
      "|     1560307680|CH184703916|Domicile|[48.8365266666667...|              null|    0|\n",
      "|     1560310320|CH184703916|     Rue|[48.8359416666667...|        1560307680| 2640|\n",
      "|     1560312960|CH184703916|     Bus| [48.83648, 2.52973]|        1560310320| 2640|\n",
      "|     1560313380|CH184703916|     Rue|[48.8363583333333...|        1560312960|  420|\n",
      "|     1560313680|CH184703916|  Bureau|[48.8362033333333...|        1560313380|  300|\n",
      "|     1560346680|CH184703916|     Rue|[48.8293983333333...|        1560313680|33000|\n",
      "|     1560348360|CH184703916|   Métro|[48.8316016666667...|        1560346680| 1680|\n",
      "|     1560351480|CH184703916|Domicile|[48.826745, 2.355...|        1560348360| 3120|\n",
      "|     1560353760|CH184703916|     Rue|[48.8270466666667...|        1560351480| 2280|\n",
      "|     1560354060|CH184703916| Magasin|[48.8269083333333...|        1560353760|  300|\n",
      "+---------------+-----------+--------+--------------------+------------------+-----+\n",
      "only showing top 10 rows\n",
      "\n"
     ]
    }
   ],
   "source": [
    "win = Window.partitionBy().orderBy('timestamp_epoch')\n",
    "df1 = df1.withColumn('timestamp_previous', lag(df1.timestamp_epoch).over(win))\n",
    "df1 = df1.withColumn(\"diff\", when(isnull(df1.timestamp_epoch - df1.timestamp_previous), 0)\n",
    "                              .otherwise(df1.timestamp_epoch - df1.timestamp_previous))\n",
    "df1.show(10)"
   ]
  },
  {
   "cell_type": "markdown",
   "metadata": {},
   "source": [
    "### Replace the first value with the mean of the differences"
   ]
  },
  {
   "cell_type": "code",
   "execution_count": 13,
   "metadata": {
    "scrolled": true
   },
   "outputs": [
    {
     "name": "stdout",
     "output_type": "stream",
     "text": [
      "+---------------+-----------+--------+--------------------+------------------+------------------+\n",
      "|timestamp_epoch|  tablet_id|activity|         coordinates|timestamp_previous|              diff|\n",
      "+---------------+-----------+--------+--------------------+------------------+------------------+\n",
      "|     1560307680|CH184703916|Domicile|[48.8365266666667...|              null|11178.340248962655|\n",
      "|     1560310320|CH184703916|     Rue|[48.8359416666667...|        1560307680|            2640.0|\n",
      "|     1560312960|CH184703916|     Bus| [48.83648, 2.52973]|        1560310320|            2640.0|\n",
      "|     1560313380|CH184703916|     Rue|[48.8363583333333...|        1560312960|             420.0|\n",
      "|     1560313680|CH184703916|  Bureau|[48.8362033333333...|        1560313380|             300.0|\n",
      "|     1560346680|CH184703916|     Rue|[48.8293983333333...|        1560313680|           33000.0|\n",
      "|     1560348360|CH184703916|   Métro|[48.8316016666667...|        1560346680|            1680.0|\n",
      "|     1560351480|CH184703916|Domicile|[48.826745, 2.355...|        1560348360|            3120.0|\n",
      "|     1560353760|CH184703916|     Rue|[48.8270466666667...|        1560351480|            2280.0|\n",
      "|     1560354060|CH184703916| Magasin|[48.8269083333333...|        1560353760|             300.0|\n",
      "+---------------+-----------+--------+--------------------+------------------+------------------+\n",
      "only showing top 10 rows\n",
      "\n"
     ]
    }
   ],
   "source": [
    "df_tmp = df1.filter(df1.timestamp_epoch != df1.first()[0])\n",
    "df1 = df1.withColumn('diff', when(df1.diff == 0, df_tmp.agg(avg('diff')).first()[0]).otherwise(df1.diff))\n",
    "df1.show(10)"
   ]
  },
  {
   "cell_type": "code",
   "execution_count": 14,
   "metadata": {
    "scrolled": true
   },
   "outputs": [
    {
     "name": "stdout",
     "output_type": "stream",
     "text": [
      "+-------+------------------+\n",
      "|summary|              diff|\n",
      "+-------+------------------+\n",
      "|  count|               724|\n",
      "|   mean|11178.340248962655|\n",
      "| stddev|159363.34935999848|\n",
      "|    min|              60.0|\n",
      "|    25%|             360.0|\n",
      "|    50%|             960.0|\n",
      "|    75%|            2640.0|\n",
      "|    max|         4275120.0|\n",
      "+-------+------------------+\n",
      "\n"
     ]
    }
   ],
   "source": [
    "df1.select('diff').summary().show()"
   ]
  },
  {
   "cell_type": "markdown",
   "metadata": {},
   "source": [
    "### Summary\n",
    "There is one difference that equals to 4275120 seconds (almost 50 days). So the different is really very wide between the minimum difference 60 seconds and the biggest one 50 days. If we drop the 50 days difference, we will have the summary below."
   ]
  },
  {
   "cell_type": "code",
   "execution_count": 15,
   "metadata": {
    "scrolled": false
   },
   "outputs": [
    {
     "name": "stdout",
     "output_type": "stream",
     "text": [
      "+-------+------------------+\n",
      "|summary|              diff|\n",
      "+-------+------------------+\n",
      "|  count|               723|\n",
      "|   mean| 5280.772254839506|\n",
      "| stddev|14673.368643557595|\n",
      "|    min|              60.0|\n",
      "|    25%|             360.0|\n",
      "|    50%|             960.0|\n",
      "|    75%|            2640.0|\n",
      "|    max|          211620.0|\n",
      "+-------+------------------+\n",
      "\n"
     ]
    }
   ],
   "source": [
    "df1 = df1.filter(df1.diff < 623640)\n",
    "df1.select('diff').summary().show()"
   ]
  },
  {
   "cell_type": "markdown",
   "metadata": {},
   "source": [
    "Still the average is 5280 seconds (88 minutes), where the maximum value is 211620 seconds (almost 2 days and a half), the minimum is always 60 seconds.\n",
    "I will go with the minimum interval for the time being and missing values will be null"
   ]
  },
  {
   "cell_type": "code",
   "execution_count": 16,
   "metadata": {},
   "outputs": [],
   "source": [
    "import pandas as pd\n",
    "from matplotlib import pyplot as plt"
   ]
  },
  {
   "cell_type": "code",
   "execution_count": 17,
   "metadata": {
    "scrolled": false
   },
   "outputs": [
    {
     "data": {
      "text/plain": [
       "array([[<matplotlib.axes._subplots.AxesSubplot object at 0x7f4449ab77f0>]],\n",
       "      dtype=object)"
      ]
     },
     "execution_count": 17,
     "metadata": {},
     "output_type": "execute_result"
    },
    {
     "data": {
      "image/png": "[encoded data removed]",
      "text/plain": [
       "<Figure size 864x576 with 1 Axes>"
      ]
     },
     "metadata": {
      "needs_background": "light"
     },
     "output_type": "display_data"
    }
   ],
   "source": [
    "pdf = df1.select('diff').toPandas()\n",
    "pdf.hist(bins=pdf['diff'].nunique(), figsize=(12,8))"
   ]
  },
  {
   "cell_type": "code",
   "execution_count": 18,
   "metadata": {},
   "outputs": [
    {
     "data": {
      "text/plain": [
       "120.0      38\n",
       "180.0      37\n",
       "60.0       35\n",
       "240.0      34\n",
       "480.0      31\n",
       "360.0      30\n",
       "420.0      28\n",
       "300.0      27\n",
       "720.0      16\n",
       "840.0      15\n",
       "780.0      15\n",
       "900.0      15\n",
       "1020.0     15\n",
       "660.0      14\n",
       "960.0      14\n",
       "1200.0     13\n",
       "1080.0     12\n",
       "600.0      12\n",
       "540.0      12\n",
       "1860.0     10\n",
       "1320.0      9\n",
       "1140.0      8\n",
       "1500.0      8\n",
       "1560.0      7\n",
       "1440.0      7\n",
       "3120.0      6\n",
       "2100.0      6\n",
       "2220.0      6\n",
       "1800.0      6\n",
       "1980.0      6\n",
       "           ..\n",
       "20940.0     1\n",
       "37800.0     1\n",
       "30000.0     1\n",
       "21840.0     1\n",
       "8340.0      1\n",
       "81480.0     1\n",
       "24480.0     1\n",
       "6780.0      1\n",
       "20460.0     1\n",
       "36600.0     1\n",
       "44820.0     1\n",
       "12420.0     1\n",
       "8520.0      1\n",
       "72960.0     1\n",
       "4200.0      1\n",
       "7920.0      1\n",
       "5280.0      1\n",
       "40620.0     1\n",
       "86340.0     1\n",
       "40080.0     1\n",
       "53220.0     1\n",
       "33360.0     1\n",
       "49560.0     1\n",
       "15720.0     1\n",
       "36840.0     1\n",
       "45240.0     1\n",
       "12900.0     1\n",
       "33000.0     1\n",
       "9480.0      1\n",
       "68040.0     1\n",
       "Name: diff, Length: 174, dtype: int64"
      ]
     },
     "execution_count": 18,
     "metadata": {},
     "output_type": "execute_result"
    }
   ],
   "source": [
    "pdf['diff'].value_counts()"
   ]
  },
  {
   "cell_type": "code",
   "execution_count": 112,
   "metadata": {
    "scrolled": false
   },
   "outputs": [
    {
     "name": "stdout",
     "output_type": "stream",
     "text": [
      "+----------+-----------+--------+--------------------+\n",
      "| timestamp|  tablet_id|activity|         coordinates|\n",
      "+----------+-----------+--------+--------------------+\n",
      "|1560307680|CH184703916|Domicile|[48.8365266666667...|\n",
      "|1560307740|       null|    null|                null|\n",
      "|1560307800|       null|    null|                null|\n",
      "|1560307860|       null|    null|                null|\n",
      "|1560307920|       null|    null|                null|\n",
      "|1560307980|       null|    null|                null|\n",
      "|1560308040|       null|    null|                null|\n",
      "|1560308100|       null|    null|                null|\n",
      "|1560308160|       null|    null|                null|\n",
      "|1560308220|       null|    null|                null|\n",
      "|1560308280|       null|    null|                null|\n",
      "|1560308340|       null|    null|                null|\n",
      "|1560308400|       null|    null|                null|\n",
      "|1560308460|       null|    null|                null|\n",
      "|1560308520|       null|    null|                null|\n",
      "|1560308580|       null|    null|                null|\n",
      "|1560308640|       null|    null|                null|\n",
      "|1560308700|       null|    null|                null|\n",
      "|1560308760|       null|    null|                null|\n",
      "|1560308820|       null|    null|                null|\n",
      "+----------+-----------+--------+--------------------+\n",
      "only showing top 20 rows\n",
      "\n"
     ]
    }
   ],
   "source": [
    "step = 1 * 60\n",
    "inner_granularity = 'minute'\n",
    "minp, maxp = df1.select(min(\"timestamp_epoch\"), max(\"timestamp_epoch\")).first()\n",
    "\n",
    "reference = spark.range(\n",
    "    (minp / step) * step, ((maxp / step) + 1) * step, step).select(col(\"id\").cast(\"timestamp\").cast(\"long\").alias(\"timestamp\"))\n",
    "\n",
    "\n",
    "df_joined = reference.join(df1,reference.timestamp == df1.timestamp_epoch, \"leftouter\").drop('timestamp_previous',\n",
    "                                                                                             'diff', 'timestamp_epoch')\n",
    "\n",
    "# df_joined = reference.join(df1,reference.timestamp == df1.timestamp_epoch, \"inner\").drop('timestamp_previous',\n",
    "#                                                                                              'diff', 'timestamp_epoch')\n",
    "\n",
    "df_joined.show()"
   ]
  },
  {
   "cell_type": "code",
   "execution_count": 16,
   "metadata": {},
   "outputs": [
    {
     "name": "stdout",
     "output_type": "stream",
     "text": [
      "missing values percentage: 0.0\n"
     ]
    }
   ],
   "source": [
    "x, y = df_joined.count(), df_joined.filter(isnull('activity')).count()\n",
    "print(\"missing values percentage:\", (y*100)/x)"
   ]
  },
  {
   "cell_type": "code",
   "execution_count": 113,
   "metadata": {},
   "outputs": [],
   "source": [
    "df_joined = df_joined.na.fill('null')"
   ]
  },
  {
   "cell_type": "markdown",
   "metadata": {},
   "source": [
    "# Doing the Temporal Indexing"
   ]
  },
  {
   "cell_type": "code",
   "execution_count": 114,
   "metadata": {},
   "outputs": [],
   "source": [
    "def groupPerGranularity(granularity):\n",
    "    inSec = 86400 # By default day\n",
    "    if granularity == 'year':\n",
    "        inSec = 31536000\n",
    "    elif granularity == 'month':\n",
    "        inSec = 2630000\n",
    "    elif granularity == 'week':\n",
    "        inSec = 604800\n",
    "    elif granulaity == 'hour':\n",
    "        inSec = 3600\n",
    "    elif granularity == 'minute':\n",
    "        inSec = 60\n",
    "    elif granularity == 'second':\n",
    "        inSec = 1\n",
    "    return (floor(df_joined.timestamp / lit(inSec)) * lit(inSec)).alias('timestamp_interval')"
   ]
  },
  {
   "cell_type": "code",
   "execution_count": 115,
   "metadata": {},
   "outputs": [],
   "source": [
    "granularity = 'month'\n",
    "tsGroup = groupPerGranularity(granularity)"
   ]
  },
  {
   "cell_type": "code",
   "execution_count": 116,
   "metadata": {},
   "outputs": [],
   "source": [
    "getFirst = udf(lambda x:x[0], StringType())"
   ]
  },
  {
   "cell_type": "code",
   "execution_count": 54,
   "metadata": {},
   "outputs": [],
   "source": [
    "columns = ['tablet_id', 'activity', 'coordinates']"
   ]
  },
  {
   "cell_type": "code",
   "execution_count": 55,
   "metadata": {
    "scrolled": true
   },
   "outputs": [],
   "source": [
    "a = [collect_list(c).alias(c) for c in columns]"
   ]
  },
  {
   "cell_type": "code",
   "execution_count": 100,
   "metadata": {},
   "outputs": [
    {
     "name": "stdout",
     "output_type": "stream",
     "text": [
      "+----------+-----------+--------+--------------------+\n",
      "| timestamp|  tablet_id|activity|         coordinates|\n",
      "+----------+-----------+--------+--------------------+\n",
      "|1560307680|CH184703916|Domicile|[48.8365266666667...|\n",
      "|1560307740|       null|    null|                null|\n",
      "|1560307800|       null|    null|                null|\n",
      "|1560307860|       null|    null|                null|\n",
      "|1560307920|       null|    null|                null|\n",
      "|1560307980|       null|    null|                null|\n",
      "|1560308040|       null|    null|                null|\n",
      "|1560308100|       null|    null|                null|\n",
      "|1560308160|       null|    null|                null|\n",
      "|1560308220|       null|    null|                null|\n",
      "|1560308280|       null|    null|                null|\n",
      "|1560308340|       null|    null|                null|\n",
      "|1560308400|       null|    null|                null|\n",
      "|1560308460|       null|    null|                null|\n",
      "|1560308520|       null|    null|                null|\n",
      "|1560308580|       null|    null|                null|\n",
      "|1560308640|       null|    null|                null|\n",
      "|1560308700|       null|    null|                null|\n",
      "|1560308760|       null|    null|                null|\n",
      "|1560308820|       null|    null|                null|\n",
      "+----------+-----------+--------+--------------------+\n",
      "only showing top 20 rows\n",
      "\n"
     ]
    }
   ],
   "source": [
    "df_joined.show()"
   ]
  },
  {
   "cell_type": "code",
   "execution_count": 101,
   "metadata": {
    "scrolled": true
   },
   "outputs": [
    {
     "name": "stdout",
     "output_type": "stream",
     "text": [
      "+-------------------------+\n",
      "|collect_list(coordinates)|\n",
      "+-------------------------+\n",
      "|     [[48.836526666666...|\n",
      "+-------------------------+\n",
      "\n"
     ]
    }
   ],
   "source": [
    "df_joined.agg(collect_list('coordinates')).show()"
   ]
  },
  {
   "cell_type": "code",
   "execution_count": 117,
   "metadata": {},
   "outputs": [],
   "source": [
    "\n",
    "df2 = (df_joined.groupBy(tsGroup).agg(\n",
    "    collect_list('tablet_id').alias('tablet_id'),\n",
    "    collect_list('activity').alias('activity'),\n",
    "    collect_list('coordinates').alias('coordinates'),\n",
    "    collect_list('timestamp').alias('timestamp_first'))).withColumn('timestamp_first', \n",
    "                                                                          getFirst('timestamp_first')).orderBy('timestamp_first')"
   ]
  },
  {
   "cell_type": "code",
   "execution_count": 103,
   "metadata": {},
   "outputs": [],
   "source": [
    "t = df2.withColumn('l1', size('tablet_id')).withColumn('l2', size('activity')).withColumn('l3', size('coordinates'))"
   ]
  },
  {
   "cell_type": "code",
   "execution_count": 104,
   "metadata": {},
   "outputs": [
    {
     "name": "stdout",
     "output_type": "stream",
     "text": [
      "+-----+-----+-----+\n",
      "|   l1|   l2|   l3|\n",
      "+-----+-----+-----+\n",
      "|31872|31872|31872|\n",
      "|43834|43834|43834|\n",
      "|43833|43833|43833|\n",
      "|15161|15161|15161|\n",
      "+-----+-----+-----+\n",
      "\n"
     ]
    }
   ],
   "source": [
    "t.select('l1', 'l2', 'l3').show()"
   ]
  },
  {
   "cell_type": "code",
   "execution_count": 118,
   "metadata": {},
   "outputs": [],
   "source": [
    "df2 = df2.withColumn('global_granularity', lit('1 month'))\n",
    "df2 = df2.withColumn('inner_granularity', lit('1 minute'))"
   ]
  },
  {
   "cell_type": "code",
   "execution_count": 106,
   "metadata": {
    "scrolled": true
   },
   "outputs": [
    {
     "name": "stdout",
     "output_type": "stream",
     "text": [
      "+------------------+--------------------+--------------------+--------------------+---------------+------------------+-----------------+\n",
      "|timestamp_interval|           tablet_id|            activity|         coordinates|timestamp_first|global_granularity|inner_granularity|\n",
      "+------------------+--------------------+--------------------+--------------------+---------------+------------------+-----------------+\n",
      "|        1559590000|[CH184703916, nul...|[Domicile, null, ...|[[48.836526666666...|     1560307680|             month|           minute|\n",
      "|        1562220000|[null, null, null...|[null, null, null...|[null, null, null...|     1562220000|             month|           minute|\n",
      "+------------------+--------------------+--------------------+--------------------+---------------+------------------+-----------------+\n",
      "only showing top 2 rows\n",
      "\n"
     ]
    }
   ],
   "source": [
    "df2.show(2)"
   ]
  },
  {
   "cell_type": "code",
   "execution_count": 119,
   "metadata": {},
   "outputs": [],
   "source": [
    "df2.write.mode('overwrite').partitionBy('timestamp_interval').parquet('tss_null')"
   ]
  },
  {
   "cell_type": "code",
   "execution_count": null,
   "metadata": {},
   "outputs": [],
   "source": []
  }
 ],
 "metadata": {
  "kernelspec": {
   "display_name": "Python 3",
   "language": "python",
   "name": "python3"
  },
  "language_info": {
   "codemirror_mode": {
    "name": "ipython",
    "version": 3
   },
   "file_extension": ".py",
   "mimetype": "text/x-python",
   "name": "python",
   "nbconvert_exporter": "python",
   "pygments_lexer": "ipython3",
   "version": "3.6.8"
  }
 },
 "nbformat": 4,
 "nbformat_minor": 2
}
