{
 "cells": [
  {
   "cell_type": "code",
   "execution_count": 1,
   "metadata": {},
   "outputs": [],
   "source": [
    "df = spark.read.option('basePath', 'tss/').parquet('tss/timestamp_interval=1564850000')"
   ]
  },
  {
   "cell_type": "code",
   "execution_count": 28,
   "metadata": {},
   "outputs": [
    {
     "name": "stdout",
     "output_type": "stream",
     "text": [
      "+--------------------+--------------------+--------------------+---------------+------------------+-----------------+------------------+\n",
      "|           tablet_id|            activity|         coordinates|timestamp_first|global_granularity|inner_granularity|timestamp_interval|\n",
      "+--------------------+--------------------+--------------------+---------------+------------------+-----------------+------------------+\n",
      "|[CH184703920, CH1...|[Rue, Métro, Rue,...|[[48.8919, 2.2318...|     1566878400|             month|           minute|        1564850000|\n",
      "+--------------------+--------------------+--------------------+---------------+------------------+-----------------+------------------+\n",
      "\n"
     ]
    }
   ],
   "source": [
    "df.show()"
   ]
  },
  {
   "cell_type": "code",
   "execution_count": 29,
   "metadata": {},
   "outputs": [
    {
     "name": "stdout",
     "output_type": "stream",
     "text": [
      "root\n",
      " |-- tablet_id: array (nullable = true)\n",
      " |    |-- element: string (containsNull = true)\n",
      " |-- activity: array (nullable = true)\n",
      " |    |-- element: string (containsNull = true)\n",
      " |-- coordinates: array (nullable = true)\n",
      " |    |-- element: array (containsNull = true)\n",
      " |    |    |-- element: string (containsNull = true)\n",
      " |-- timestamp_first: string (nullable = true)\n",
      " |-- global_granularity: string (nullable = true)\n",
      " |-- inner_granularity: string (nullable = true)\n",
      " |-- timestamp_interval: integer (nullable = true)\n",
      "\n"
     ]
    }
   ],
   "source": [
    "df.printSchema()"
   ]
  },
  {
   "cell_type": "code",
   "execution_count": 30,
   "metadata": {},
   "outputs": [],
   "source": [
    "from pyspark.sql.functions import *\n",
    "from pyspark.sql import Window"
   ]
  },
  {
   "cell_type": "code",
   "execution_count": 31,
   "metadata": {},
   "outputs": [
    {
     "name": "stdout",
     "output_type": "stream",
     "text": [
      "minute 1566878400\n"
     ]
    }
   ],
   "source": [
    "step = df.select('inner_granularity').first()[0]\n",
    "first_timestamp = df.select('timestamp_first').first()[0]\n",
    "print(step, first_timestamp)"
   ]
  },
  {
   "cell_type": "code",
   "execution_count": 50,
   "metadata": {},
   "outputs": [],
   "source": [
    "df1 = df.withColumn('new', arrays_zip('activity', 'tablet_id', 'coordinates'))"
   ]
  },
  {
   "cell_type": "code",
   "execution_count": 51,
   "metadata": {},
   "outputs": [],
   "source": [
    "df1 = df1.select('timestamp_first', 'new')"
   ]
  },
  {
   "cell_type": "code",
   "execution_count": 52,
   "metadata": {
    "scrolled": true
   },
   "outputs": [
    {
     "name": "stdout",
     "output_type": "stream",
     "text": [
      "+---------------+--------------------+\n",
      "|timestamp_first|                 new|\n",
      "+---------------+--------------------+\n",
      "|     1566878400|[Rue, CH184703920...|\n",
      "|     1566878400|[Métro, CH1847039...|\n",
      "|     1566878400|[Rue, CH184703920...|\n",
      "|     1566878400|[Bureau, CH184703...|\n",
      "|     1566878400|[Rue, CH184703920...|\n",
      "|     1566878400|[Restaurant, CH18...|\n",
      "|     1566878400|[Rue, CH184703920...|\n",
      "|     1566878400|[Voiture, CH18470...|\n",
      "|     1566878400|[Bureau, CH184703...|\n",
      "|     1566878400|[Rue, CH184703920...|\n",
      "|     1566878400|[Magasin, CH18470...|\n",
      "|     1566878400|[Bureau, CH184703...|\n",
      "|     1566878400|[Rue, CH184703916...|\n",
      "|     1566878400|[Deux Roues, CH18...|\n",
      "|     1566878400|[Domicile, CH1847...|\n",
      "|     1566878400|[Voiture, CH18470...|\n",
      "|     1566878400|[Domicile, CH1847...|\n",
      "|     1566878400|[Domicile, CH1847...|\n",
      "|     1566878400|[Domicile, CH1847...|\n",
      "|     1566878400|[Voiture, CH18470...|\n",
      "+---------------+--------------------+\n",
      "only showing top 20 rows\n",
      "\n"
     ]
    }
   ],
   "source": [
    "df1 = df1.withColumn('new', explode('new'))\n",
    "df1.show()"
   ]
  },
  {
   "cell_type": "code",
   "execution_count": 55,
   "metadata": {},
   "outputs": [
    {
     "name": "stdout",
     "output_type": "stream",
     "text": [
      "+---------------+----------+-----------+--------------------+\n",
      "|timestamp_first|  activity|  tablet_id|         coordinates|\n",
      "+---------------+----------+-----------+--------------------+\n",
      "|     1566878400|       Rue|CH184703920|[48.8919, 2.23187...|\n",
      "|     1566878400|     Métro|CH184703920|[48.8901033333333...|\n",
      "|     1566878400|       Rue|CH184703920|[48.890005, 2.230...|\n",
      "|     1566878400|    Bureau|CH184703920|[48.891835, 2.231...|\n",
      "|     1566878400|       Rue|CH184703920|[48.8910483333333...|\n",
      "|     1566878400|Restaurant|CH184703920|[48.8906816666667...|\n",
      "|     1566878400|       Rue|CH184703920|[48.8923516666667...|\n",
      "|     1566878400|   Voiture|CH184703920|[48.8914583333333...|\n",
      "|     1566878400|    Bureau|CH184703920|[48.8910716666667...|\n",
      "|     1566878400|       Rue|CH184703920|[48.8916033333333...|\n",
      "|     1566878400|   Magasin|CH184703920|[48.8916433333333...|\n",
      "|     1566878400|    Bureau|CH184703920|[48.891415, 2.231...|\n",
      "|     1566878400|       Rue|CH184703916|[48.8613864, 2.40...|\n",
      "|     1566878400|Deux Roues|CH184703916|[48.861367, 2.403...|\n",
      "|     1566878400|  Domicile|CH184703916|[48.861386, 2.403...|\n",
      "|     1566878400|   Voiture|CH184703920|[48.8111582, 2.31...|\n",
      "|     1566878400|  Domicile|CH184703943|[48.8573369, 2.39...|\n",
      "|     1566878400|  Domicile|CH184703920|[48.8111507, 2.31...|\n",
      "|     1566878400|  Domicile|CH184703919|[48.8442933333333...|\n",
      "|     1566878400|   Voiture|CH184703920|[48.8910383333333...|\n",
      "+---------------+----------+-----------+--------------------+\n",
      "only showing top 20 rows\n",
      "\n"
     ]
    }
   ],
   "source": [
    "columns = ['activity', 'tablet_id', 'coordinates']\n",
    "for c in columns:\n",
    "    column_name = 'new.' + c\n",
    "    df1 = df1.withColumn(c, col(column_name))\n",
    "df1 = df1.drop('new')\n",
    "df1.show()"
   ]
  },
  {
   "cell_type": "code",
   "execution_count": 56,
   "metadata": {
    "scrolled": true
   },
   "outputs": [
    {
     "data": {
      "text/plain": [
       "['timestamp_first', 'activity', 'tablet_id', 'coordinates']"
      ]
     },
     "execution_count": 56,
     "metadata": {},
     "output_type": "execute_result"
    }
   ],
   "source": [
    "# .select(\n",
    "#     'timestamp_first', col('new.activity').alias('activity'), col('new.tablet_id').alias('tablet_id'),\n",
    "#     col('new.coordinates').alias('coordinates'))\n",
    "# df1.show(5, False)\n",
    "df1.columns"
   ]
  },
  {
   "cell_type": "code",
   "execution_count": 22,
   "metadata": {
    "scrolled": true
   },
   "outputs": [],
   "source": [
    "df1 = df1.withColumn('counter', monotonically_increasing_id())"
   ]
  },
  {
   "cell_type": "code",
   "execution_count": 23,
   "metadata": {},
   "outputs": [],
   "source": [
    "def calculate_step_in_seconds(step):\n",
    "    if step == 'year':\n",
    "        inSec = 31536000\n",
    "    elif step == 'month':\n",
    "        inSec = 2630000\n",
    "    elif step == 'week':\n",
    "        inSec = 604800\n",
    "    elif step == 'day':\n",
    "        inSec = 86400\n",
    "    elif step == 'hour':\n",
    "        inSec = 3600\n",
    "    elif step == 'minute':\n",
    "        inSec = 60\n",
    "    elif step == 'second':\n",
    "        inSec = 1\n",
    "    return inSec\n",
    "inSec = calculate_step_in_seconds(step)"
   ]
  },
  {
   "cell_type": "code",
   "execution_count": 24,
   "metadata": {},
   "outputs": [],
   "source": [
    "df1 = df1.withColumn('inSec', lit(inSec))"
   ]
  },
  {
   "cell_type": "code",
   "execution_count": 25,
   "metadata": {},
   "outputs": [
    {
     "name": "stdout",
     "output_type": "stream",
     "text": [
      "+---------------+--------+-----------+--------------------+-------+-----+\n",
      "|timestamp_first|activity|  tablet_id|         coordinates|counter|inSec|\n",
      "+---------------+--------+-----------+--------------------+-------+-----+\n",
      "|     1566878400|     Rue|CH184703920|[48.8919, 2.23187...|      0|   60|\n",
      "|     1566878400|   Métro|CH184703920|[48.8901033333333...|      1|   60|\n",
      "|     1566878400|     Rue|CH184703920|[48.890005, 2.230...|      2|   60|\n",
      "|     1566878400|  Bureau|CH184703920|[48.891835, 2.231...|      3|   60|\n",
      "|     1566878400|     Rue|CH184703920|[48.8910483333333...|      4|   60|\n",
      "+---------------+--------+-----------+--------------------+-------+-----+\n",
      "only showing top 5 rows\n",
      "\n"
     ]
    }
   ],
   "source": [
    "df1.show(5)"
   ]
  },
  {
   "cell_type": "code",
   "execution_count": 26,
   "metadata": {},
   "outputs": [
    {
     "name": "stdout",
     "output_type": "stream",
     "text": [
      "+--------+-----------+--------------------+----------+\n",
      "|activity|  tablet_id|         coordinates| timestamp|\n",
      "+--------+-----------+--------------------+----------+\n",
      "|     Rue|CH184703920|[48.8919, 2.23187...|1566878400|\n",
      "|   Métro|CH184703920|[48.8901033333333...|1566878460|\n",
      "|     Rue|CH184703920|[48.890005, 2.230...|1566878520|\n",
      "|  Bureau|CH184703920|[48.891835, 2.231...|1566878580|\n",
      "|     Rue|CH184703920|[48.8910483333333...|1566878640|\n",
      "+--------+-----------+--------------------+----------+\n",
      "only showing top 5 rows\n",
      "\n"
     ]
    }
   ],
   "source": [
    "df1 = df1.withColumn('timestamp', (df1.timestamp_first + (df1.counter * df1.inSec)).cast('long'))\n",
    "df1 = df1.drop('timestamp_first', 'counter', 'inSec')\n",
    "df1.show(5)"
   ]
  },
  {
   "cell_type": "code",
   "execution_count": 37,
   "metadata": {},
   "outputs": [],
   "source": [
    "def unpack(base_dir, paths):\n",
    "    p = [base_dir + \"/\" + path for path in paths]\n",
    "    df = spark.read.option('basePath', base_dir + '/').parquet(*p).sort('timestamp_interval')\n",
    "    step = df.select('inner_granularity').first()[0]\n",
    "    first_timestamp = df.select('timestamp_first').first()[0]\n",
    "    df1 = df.withColumn('new', arrays_zip('activity', 'tablet_id', 'coordinates'))\n",
    "    df1 = df1.select('timestamp_first', 'new')\n",
    "    df1 = df1.withColumn('new', explode('new')).select(\n",
    "    'timestamp_first', col('new.activity').alias('activity'), col('new.tablet_id').alias('tablet_id'),\n",
    "    col('new.coordinates').alias('coordinates'))\n",
    "    df1 = df1.withColumn('counter', monotonically_increasing_id())\n",
    "    inSec = calculate_step_in_seconds(step)\n",
    "    df1 = df1.withColumn('inSec', lit(inSec))\n",
    "    df1 = df1.withColumn('timestamp', (df1.timestamp_first + (df1.counter * df1.inSec)).cast('long'))\n",
    "    df1 = df1.drop('timestamp_first', 'counter', 'inSec')\n",
    "    return df1"
   ]
  },
  {
   "cell_type": "code",
   "execution_count": null,
   "metadata": {},
   "outputs": [],
   "source": []
  }
 ],
 "metadata": {
  "kernelspec": {
   "display_name": "Python 3",
   "language": "python",
   "name": "python3"
  },
  "language_info": {
   "codemirror_mode": {
    "name": "ipython",
    "version": 3
   },
   "file_extension": ".py",
   "mimetype": "text/x-python",
   "name": "python",
   "nbconvert_exporter": "python",
   "pygments_lexer": "ipython3",
   "version": "3.6.8"
  }
 },
 "nbformat": 4,
 "nbformat_minor": 2
}
